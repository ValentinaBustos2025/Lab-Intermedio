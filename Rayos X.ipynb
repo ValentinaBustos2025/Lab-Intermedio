{
 "cells": [
  {
   "cell_type": "markdown",
   "id": "79fdd803",
   "metadata": {},
   "source": [
    "<h2> RAYOS X</h2>\n",
    "<p>Vamos a tomar datos para las diferentes actividades que se describieron en la guía de este experimento</p>"
   ]
  }
 ],
 "metadata": {
  "language_info": {
   "name": "python"
  }
 },
 "nbformat": 4,
 "nbformat_minor": 5
}
