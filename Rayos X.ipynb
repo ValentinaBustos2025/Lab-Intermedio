{
 "cells": [
  {
   "cell_type": "markdown",
   "id": "8be92c87",
   "metadata": {},
   "source": [
    "<style>\n",
    ".titulo {\n",
    "    text-align: center;\n",
    "    font-size: 26px;\n",
    "    font-weight: bold;\n",
    "    margin-bottom: 10px;\n",
    "}\n",
    ".subtitulo {\n",
    "    text-align: center;\n",
    "    font-size: 14px;\n",
    "    font-style: italic;\n",
    "    margin-bottom: 20px;\n",
    "}\n",
    ".nombres {\n",
    "    text-align: center;\n",
    "    font-size: 13px;\n",
    "    margin-bottom: 30px;\n",
    "}\n",
    "h3 {\n",
    "    text-align: center;\n",
    "    color: #2c3e50;\n",
    "    font-weight: bold;\n",
    "}\n",
    "h4 {\n",
    "    color: #34495e;\n",
    "    margin-top: 25px;\n",
    "}\n",
    "p {\n",
    "    font-size: 14px;\n",
    "}\n",
    "</style>"
   ]
  },
  {
   "cell_type": "markdown",
   "id": "81d1d67a",
   "metadata": {},
   "source": [
    "<div class=\"titulo\">21 / Agosto / 2025</div>\n",
    "<div class=\"nombres\">Ángela Valentina Bustos Giraldo <br> Mariana Montoya Torres</div>\n",
    "\n",
    "<h3>RAYOS X</h3>\n",
    "\n",
    "<h4>Parámetros iniciales:</h4>\n",
    "<p>Ángulo Intensidad máxima : 20,9 °. d del LiF = 201 pm</p>\n",
    "\n",
    "<h4>Actividad 1:</h4>\n",
    "<p>Gráficar intensidad contra longitud de onda utilizando la ley de Bragg.</p>"
   ]
  },
  {
   "cell_type": "code",
   "execution_count": null,
   "id": "8bc9c34f",
   "metadata": {
    "vscode": {
     "languageId": "plaintext"
    }
   },
   "outputs": [],
   "source": []
  },
  {
   "cell_type": "markdown",
   "id": "0bd03cc0",
   "metadata": {},
   "source": [
    "<h4> Actividad 2:</h4>\n",
    "\n",
    "La absorción de los rayos X usando la relación μ/ρ . A lo largo de la práctica se varía el espesor de cada material, Al y Zn en este caso.\n",
    "\n",
    "<p>Ángulo Intensidad máxima : 20,9 °. d del LiF = 201 pm. Con unos absorvedores de Al: 0,1 nm, 0,08 nm y 0,06 nm</p> "
   ]
  },
  {
   "cell_type": "code",
   "execution_count": null,
   "id": "e1865b12",
   "metadata": {
    "vscode": {
     "languageId": "plaintext"
    }
   },
   "outputs": [],
   "source": []
  },
  {
   "cell_type": "markdown",
   "id": "7a47449f",
   "metadata": {},
   "source": [
    "<h4>Actividad 3: </h4>\n",
    "\n",
    "<p>Se varía el voltaje y corriente (una se deja constante) para evidenciarlo en el espectro generado por los Rayos\n",
    "X de Cu con el cristal LiF .</p>"
   ]
  },
  {
   "cell_type": "code",
   "execution_count": null,
   "id": "afab7743",
   "metadata": {
    "vscode": {
     "languageId": "plaintext"
    }
   },
   "outputs": [],
   "source": []
  },
  {
   "cell_type": "markdown",
   "id": "b3a2967e",
   "metadata": {},
   "source": [
    "<h4>Actividad 4: </h4>\n",
    "<p> Para esta parte de la práctica se comprueba la ley de Duane - Hunt hallando la longitud de onda mínima en la cuál se da el efecto de Bremsstrah-lung. </p>"
   ]
  },
  {
   "cell_type": "code",
   "execution_count": null,
   "id": "d309b1ab",
   "metadata": {
    "vscode": {
     "languageId": "plaintext"
    }
   },
   "outputs": [],
   "source": []
  }
 ],
 "metadata": {
  "language_info": {
   "name": "python"
  }
 },
 "nbformat": 4,
 "nbformat_minor": 5
}
