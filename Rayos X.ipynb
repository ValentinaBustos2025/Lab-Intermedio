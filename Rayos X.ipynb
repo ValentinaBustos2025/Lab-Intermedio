{
 "cells": [
  {
   "cell_type": "markdown",
   "id": "79fdd803",
   "metadata": {},
   "source": [
    "<h3> RAYOS X</h3>\n",
    "\n",
    "<p>Vamos a tomar datos para las diferentes actividades que se describieron en la guía de este experimento</p>\n",
    "\n",
    "<h4> Actividad 1:</h4>\n",
    "\n",
    "<p> Gráficar intensidad contra longitud de onda utilizando la ley de Bragg.</p>"
   ]
  },
  {
   "cell_type": "code",
   "execution_count": null,
   "id": "8bc9c34f",
   "metadata": {
    "vscode": {
     "languageId": "plaintext"
    }
   },
   "outputs": [],
   "source": []
  },
  {
   "cell_type": "markdown",
   "id": "0bd03cc0",
   "metadata": {},
   "source": [
    "<h4> Actividad 2:</h4>\n",
    "\n",
    "La absorción de los rayos X usando la relación μ/ρ . A lo largo de la práctica se varía el espesor de cada material, Al y Zn en este caso."
   ]
  },
  {
   "cell_type": "markdown",
   "id": "7a47449f",
   "metadata": {},
   "source": [
    "<h4>Actividad 3: </h4>\n",
    "\n",
    "<p>Se varía el voltaje y corriente (una se deja constante) para evidenciarlo en el espectro generado por los Rayos\n",
    "X de Cu con el cristal LiF .</p>"
   ]
  },
  {
   "cell_type": "markdown",
   "id": "b3a2967e",
   "metadata": {},
   "source": [
    "<h4>Actividad 4: </h4>\n",
    "<p> Para esta parte de la práctica se comprueba la ley de Duane - Hunt hallando la longitud de onda mínima en la cuál se da el efecto de Bremsstrah-lung. </p>"
   ]
  }
 ],
 "metadata": {
  "language_info": {
   "name": "python"
  }
 },
 "nbformat": 4,
 "nbformat_minor": 5
}
