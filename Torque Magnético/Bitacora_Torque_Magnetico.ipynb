{
 "cells": [
  {
   "cell_type": "markdown",
   "id": "23f25977",
   "metadata": {},
   "source": [
    "# Bitácora de Laboratorio: Torque Magnético\n",
    "**Curso:** Laboratorio Intermedio de Física  \n",
    "**Fecha:** 2025-09-03  \n",
    "**Integrantes:** Ángela Bustos y  Mariana Montoya. \n",
    "\n",
    "---\n",
    "## Objetivos\n",
    "- Medir el momento magnético usando métodos estáticos y dinámicos.\n",
    "- Observar precesión y resonancia magnética.\n",
    "- Comparar resultados con el modelo teórico.\n",
    "\n",
    "---\n",
    "## Marco Teórico (resumen mínimo)\n",
    "Torque sobre dipolo: $\\vec{\\tau}=\\vec{\\mu}\\times\\vec{B}$.  \n",
    "Fuerza en campo no uniforme: $\\vec{F}=(\\vec{\\mu}\\cdot\\nabla)\\vec{B}$.  \n",
    "Pequeñas oscilaciones: $T^2=\\dfrac{4\\pi^2 I}{\\mu B}$.  \n",
    "Precesión: $\\Omega=\\dfrac{\\mu B}{L_s}$.\n",
    "\n",
    "---\n",
    "## Montaje (breve)\n",
    "Arreglo de bobinas, unidad de control, estroboscopio, bola de resina con imán.\n"
   ]
  },
  {
   "cell_type": "code",
   "execution_count": null,
   "id": "f4aa0258",
   "metadata": {},
   "outputs": [],
   "source": [
    "m_bolita = 141.3 \n",
    "d_varilla = 9.71\n",
    "r_bolita = 4.81/2\n",
    "l_manija= 0.82\n",
    "\n",
    "err_pie_rey = 0.05\n",
    "err_unidad = 0.5"
   ]
  },
  {
   "cell_type": "code",
   "execution_count": null,
   "id": "a972a8ad",
   "metadata": {},
   "outputs": [],
   "source": [
    "l_peso = [5.04,5.77,1.33,2.35,0,2.62,3.7] \n",
    "I_palo = [3.1,3.3,2.3,2.5,2.12.6,2.8]"
   ]
  },
  {
   "cell_type": "code",
   "execution_count": null,
   "id": "f63001fc",
   "metadata": {},
   "outputs": [
    {
     "name": "stdout",
     "output_type": "stream",
     "text": [
      "9\n"
     ]
    }
   ],
   "source": [
    "I = [1.5,1,1.2,1.3,1.4,1.6,1.15,1.25,1.35,1.45]\n",
    "t = [26.9,30.64,28.69,28.49,27.28,31.40,30.24,29.10,28.02,27.28] #Segundos\n",
    "print(len(I))"
   ]
  },
  {
   "cell_type": "code",
   "execution_count": null,
   "id": "5e7f5174",
   "metadata": {},
   "outputs": [],
   "source": [
    "f = 3.8\n",
    "I = [1,1.5,2,2.5,3,3.5,4]\n",
    "T = [10.27, 7.63,4.81, 3.55, 2.51, 1.91, 1.72 ]"
   ]
  },
  {
   "cell_type": "code",
   "execution_count": null,
   "id": "2e062fbb",
   "metadata": {},
   "outputs": [],
   "source": [
    "# Imports y utilidades\n",
    "import numpy as np\n",
    "import matplotlib.pyplot as plt\n",
    "\n",
    "# Para regresiones simples con incertidumbre de parámetros\n",
    "def fit_line(x, y):\n",
    "    # Devuelve pendiente, intercepto y covarianza\n",
    "    p, cov = np.polyfit(x, y, deg=1, cov=True)\n",
    "    m, b = p\n",
    "    sm, sb = np.sqrt(np.diag(cov))\n",
    "    return (m, sm), (b, sb)\n",
    "\n",
    "# Mostrar tabla rápida\n",
    "def show_table(headers, rows):\n",
    "    # simple print table\n",
    "    col_widths = [max(len(h), *(len(str(r[i])) for r in rows)) for i,h in enumerate(headers)]\n",
    "    fmt = \" | \".join(\"{:<\" + str(w) + \"}\" for w in col_widths)\n",
    "    print(fmt.format(*headers))\n",
    "    print(\"-+-\".join(\"-\"*w for w in col_widths))\n",
    "    for r in rows:\n",
    "        print(fmt.format(*r))\n"
   ]
  },
  {
   "cell_type": "markdown",
   "id": "74904a5c",
   "metadata": {},
   "source": [
    "### Constantes del sistema (ajusta según tu equipo)\n",
    "Desde la guía del laboratorio (normalizado a 1 A):\n",
    "- $B/I \\approx 1.36\\times10^{-3}\\ \\mathrm{T/A}$  \n",
    "- $\\partial B/\\partial z \\approx 1.69\\times10^{-2}\\ \\mathrm{T/(A\\,m)}$\n"
   ]
  },
  {
   "cell_type": "code",
   "execution_count": null,
   "id": "3ffeec5f",
   "metadata": {},
   "outputs": [],
   "source": [
    "# Constantes (ajusta si tu calibración difiere)\n",
    "k_BI = 1.36e-3   # T/A\n",
    "dB_dz_I = 1.69e-2  # T/(A m)\n",
    "\n",
    "# Densidad del aire/rozamiento no se modela aquí; anota en discusión.\n",
    "print(\"k_BI (T/A) =\", k_BI)\n"
   ]
  },
  {
   "cell_type": "markdown",
   "id": "4aedf4ab",
   "metadata": {},
   "source": [
    "---\n",
    "## Actividad 1: Equilibrio estático\n",
    "Relación esperada: $\\mu B = rmg + dMg$.  \n",
    "Ingresar mediciones (m, r, B) para varias posiciones. Calcular $rmg$ y graficar vs. $B$.\n"
   ]
  },
  {
   "cell_type": "code",
   "execution_count": null,
   "id": "218d9c98",
   "metadata": {},
   "outputs": [],
   "source": [
    "# ==== Datos de Actividad 1 (edita con tus medidas) ====\n",
    "# masas en kg, r en m, corriente en A\n",
    "m = 0.050   # masa de la pesa (kg)  <-- EDITAR\n",
    "g = 9.80665\n",
    "r = np.array([0.05, 0.07, 0.09, 0.11, 0.13])  # m  <-- EDITAR\n",
    "I = np.array([1.8, 2.1, 2.4, 2.7, 3.0])       # A  <-- EDITAR\n",
    "\n",
    "# campo magnético B a partir de I\n",
    "B = k_BI * I\n",
    "\n",
    "y = r * m * g  # r m g\n",
    "x = B\n",
    "\n",
    "(mfit, smfit), (bfit, sbfit) = fit_line(x, y)\n",
    "\n",
    "plt.scatter(x, y)\n",
    "plt.xlabel(\"B (T)\")\n",
    "plt.ylabel(\"r m g (N·m)\")\n",
    "plt.title(\"Actividad 1: r m g vs B\")\n",
    "plt.grid()\n",
    "# línea de ajuste\n",
    "xx = np.linspace(x.min()*0.9, x.max()*1.1, 100)\n",
    "plt.plot(xx, mfit*xx + bfit)\n",
    "plt.show()\n",
    "\n",
    "print(f\"Pendiente = {mfit:.4e} ± {smfit:.1e}  [N·m/T]  => μ_est = pendiente\")\n",
    "print(f\"Intercepto = {bfit:.3e} ± {sbfit:.1e}\")\n",
    "mu_est_act1 = mfit\n",
    "print(\"μ (Actividad 1) ≈\", mu_est_act1, \"A·m^2\")\n"
   ]
  },
  {
   "cell_type": "markdown",
   "id": "4b38d855",
   "metadata": {},
   "source": [
    "---\n",
    "## Actividad 2: Oscilación armónica\n",
    "Relación esperada: $T^2 = \\dfrac{4\\pi^2 I}{\\mu B}$.  \n",
    "Graficar $T^2$ vs $1/B$ y ajustar línea: pendiente $=\\dfrac{4\\pi^2 I}{\\mu}$.\n"
   ]
  },
  {
   "cell_type": "code",
   "execution_count": null,
   "id": "a0cb4034",
   "metadata": {},
   "outputs": [],
   "source": [
    "# ==== Datos de Actividad 2 (edita con tus medidas) ====\n",
    "# Corriente (A) y tiempos para 20 oscilaciones (s)\n",
    "I2 = np.array([1.0, 1.5, 2.0, 2.5, 3.0])   # A  <-- EDITAR\n",
    "t20 = np.array([64.0, 54.0, 48.0, 44.0, 40.0])  # s <-- EDITAR (tiempo de 20 oscilaciones)\n",
    "\n",
    "B2 = k_BI * I2\n",
    "T = t20 / 20.0\n",
    "y = T**2\n",
    "x = 1.0 / B2\n",
    "\n",
    "(mfit2, smfit2), (bfit2, sbfit2) = fit_line(x, y)\n",
    "\n",
    "plt.scatter(x, y)\n",
    "plt.xlabel(\"1/B (1/T)\")\n",
    "plt.ylabel(\"T^2 (s^2)\")\n",
    "plt.title(\"Actividad 2: T^2 vs 1/B\")\n",
    "plt.grid()\n",
    "xx = np.linspace(x.min()*0.9, x.max()*1.1, 100)\n",
    "plt.plot(xx, mfit2*xx + bfit2)\n",
    "plt.show()\n",
    "\n",
    "# Momento de inercia (bola maciza)\n",
    "M_bola = 0.170  # kg  <-- EDITAR\n",
    "R_bola = 0.028  # m   <-- EDITAR\n",
    "I_mom = (2/5)*M_bola*(R_bola**2)\n",
    "\n",
    "mu_est_act2 = (4*np.pi**2 * I_mom) / mfit2\n",
    "# Propagación simple por pend.\n",
    "dmu2 = mu_est_act2 * (smfit2/abs(mfit2))\n",
    "\n",
    "print(f\"Pendiente = {mfit2:.4e} ± {smfit2:.1e}  [s^2·T]\")\n",
    "print(f\"Intercepto = {bfit2:.3e} ± {sbfit2:.1e}  [s^2]\")\n",
    "print(\"I (momento de inercia) =\", I_mom, \"kg·m^2\")\n",
    "print(\"μ (Actividad 2) ≈ {:.4e} ± {:.1e} A·m^2\".format(mu_est_act2, dmu2))\n"
   ]
  },
  {
   "cell_type": "markdown",
   "id": "eb0e7048",
   "metadata": {},
   "source": [
    "---\n",
    "## Actividad 3: Precesión\n",
    "Relación esperada: $\\Omega = \\dfrac{\\mu B}{L_s}$.  \n",
    "Graficar $\\Omega$ vs $B$; pendiente $=\\mu/L_s$.\n"
   ]
  },
  {
   "cell_type": "code",
   "execution_count": null,
   "id": "35e8f6c1",
   "metadata": {},
   "outputs": [],
   "source": [
    "# ==== Datos de Actividad 3 (edita con tus medidas) ====\n",
    "# Corriente (A) y periodos de precesión (s)\n",
    "I3 = np.array([1.0, 1.5, 2.0, 2.5, 3.0])  # A  <-- EDITAR\n",
    "Tprec = np.array([6.0, 4.2, 3.2, 2.6, 2.2])  # s  <-- EDITAR\n",
    "\n",
    "B3 = k_BI * I3\n",
    "Omega = 2*np.pi / Tprec  # rad/s\n",
    "\n",
    "(mfit3, smfit3), (bfit3, sbfit3) = fit_line(B3, Omega)\n",
    "\n",
    "plt.scatter(B3, Omega)\n",
    "plt.xlabel(\"B (T)\")\n",
    "plt.ylabel(\"Ω (rad/s)\")\n",
    "plt.title(\"Actividad 3: Ω vs B\")\n",
    "plt.grid()\n",
    "xx = np.linspace(B3.min()*0.9, B3.max()*1.1, 100)\n",
    "plt.plot(xx, mfit3*xx + bfit3)\n",
    "plt.show()\n",
    "\n",
    "# Si conoces L_s, puedes obtener μ = pendiente * L_s\n",
    "L_s = 0.002  # kg·m^2/s  <-- EDITAR (momento angular de espín)\n",
    "mu_est_act3 = mfit3 * L_s\n",
    "dmu3 = L_s * smfit3\n",
    "\n",
    "print(f\"Pendiente = {mfit3:.4e} ± {smfit3:.1e}  [s^-1·T^-1]\")\n",
    "print(\"μ (Actividad 3) ≈ {:.4e} ± {:.1e} A·m^2 (con Ls asumido={})\".format(mu_est_act3, dmu3, L_s))\n"
   ]
  },
  {
   "cell_type": "markdown",
   "id": "331d26b3",
   "metadata": {},
   "source": [
    "---\n",
    "## Comparación de resultados\n",
    "Completa con los valores estimados de $\\mu$ de cada actividad y discute la compatibilidad.\n",
    "\n",
    "- Fuentes de error: campo terrestre, fricción, no uniformidad de $B$, lectura del estroboscopio.\n",
    "\n",
    "- Sugerencias de mitigación: nivelación, repetir medidas, promediar, controlar corrientes externas.\n"
   ]
  }
 ],
 "metadata": {
  "kernelspec": {
   "display_name": "Python 3",
   "language": "python",
   "name": "python3"
  },
  "language_info": {
   "codemirror_mode": {
    "name": "ipython",
    "version": 3
   },
   "file_extension": ".py",
   "mimetype": "text/x-python",
   "name": "python",
   "nbconvert_exporter": "python",
   "pygments_lexer": "ipython3",
   "version": "3.11.9"
  }
 },
 "nbformat": 4,
 "nbformat_minor": 5
}
